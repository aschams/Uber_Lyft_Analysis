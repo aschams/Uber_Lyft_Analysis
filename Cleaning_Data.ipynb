{
 "cells": [
  {
   "cell_type": "code",
   "execution_count": 1,
   "metadata": {},
   "outputs": [],
   "source": [
    "import datetime\n",
    "import matplotlib.pyplot as plt\n",
    "import numpy as np\n",
    "import pandas as pd\n",
    "import seaborn as sns\n"
   ]
  },
  {
   "cell_type": "code",
   "execution_count": 2,
   "metadata": {},
   "outputs": [],
   "source": [
    "rides_df = pd.read_csv('data/cab_rides.csv')\n",
    "weather_df = pd.read_csv('data/weather.csv')\n",
    "rides_df.drop(['product_id'], axis=1, inplace=True)"
   ]
  },
  {
   "cell_type": "code",
   "execution_count": 3,
   "metadata": {},
   "outputs": [],
   "source": [
    "rides_df['date_time'] = rides_df.apply(lambda x: datetime.datetime.fromtimestamp(x['time_stamp']/1000)\n",
    "                                       .strftime('%c'), \n",
    "                                       axis=1)\n",
    "rides_df['date_time'] = pd.to_datetime(rides_df.date_time)\n",
    "weather_df['date_time'] = weather_df.apply(lambda x: datetime.datetime.fromtimestamp(x['time_stamp'])\n",
    "                                           .strftime('%c'), \n",
    "                                           axis=1)\n",
    "weather_df['date_time'] = pd.to_datetime(weather_df.date_time)"
   ]
  },
  {
   "cell_type": "code",
   "execution_count": 4,
   "metadata": {},
   "outputs": [],
   "source": [
    "rides_df['merge_date'] = (rides_df.source.astype('str')+ ' - ' \n",
    "                          + rides_df.date_time.dt.date.astype('str') \n",
    "                          + ' '\n",
    "                          + rides_df.date_time.dt.hour.astype('str'))\n",
    "\n",
    "weather_df['merge_date'] = (weather_df.location.astype('str') + ' - '\n",
    "                            + weather_df.date_time.dt.date.astype('str')\n",
    "                            + ' '\n",
    "                            + weather_df.date_time.dt.hour.astype('str'))\n"
   ]
  },
  {
   "cell_type": "code",
   "execution_count": 5,
   "metadata": {},
   "outputs": [
    {
     "data": {
      "text/plain": [
       "distance                0\n",
       "cab_type                0\n",
       "time_stamp              0\n",
       "destination             0\n",
       "source                  0\n",
       "price               55095\n",
       "surge_multiplier        0\n",
       "id                      0\n",
       "name                    0\n",
       "date_time               0\n",
       "merge_date              0\n",
       "dtype: int64"
      ]
     },
     "execution_count": 5,
     "metadata": {},
     "output_type": "execute_result"
    }
   ],
   "source": [
    "np.sum(rides_df.isna())"
   ]
  },
  {
   "cell_type": "code",
   "execution_count": 6,
   "metadata": {},
   "outputs": [],
   "source": [
    "rides_df.dropna(inplace=True)"
   ]
  },
  {
   "cell_type": "code",
   "execution_count": 7,
   "metadata": {},
   "outputs": [
    {
     "name": "stdout",
     "output_type": "stream",
     "text": [
      "<class 'pandas.core.frame.DataFrame'>\n",
      "Int64Index: 637976 entries, 0 to 693070\n",
      "Data columns (total 11 columns):\n",
      "distance            637976 non-null float64\n",
      "cab_type            637976 non-null object\n",
      "time_stamp          637976 non-null int64\n",
      "destination         637976 non-null object\n",
      "source              637976 non-null object\n",
      "price               637976 non-null float64\n",
      "surge_multiplier    637976 non-null float64\n",
      "id                  637976 non-null object\n",
      "name                637976 non-null object\n",
      "date_time           637976 non-null datetime64[ns]\n",
      "merge_date          637976 non-null object\n",
      "dtypes: datetime64[ns](1), float64(3), int64(1), object(6)\n",
      "memory usage: 58.4+ MB\n"
     ]
    }
   ],
   "source": [
    "rides_df.info()"
   ]
  },
  {
   "cell_type": "code",
   "execution_count": 8,
   "metadata": {},
   "outputs": [
    {
     "data": {
      "text/html": [
       "<div>\n",
       "<style scoped>\n",
       "    .dataframe tbody tr th:only-of-type {\n",
       "        vertical-align: middle;\n",
       "    }\n",
       "\n",
       "    .dataframe tbody tr th {\n",
       "        vertical-align: top;\n",
       "    }\n",
       "\n",
       "    .dataframe thead th {\n",
       "        text-align: right;\n",
       "    }\n",
       "</style>\n",
       "<table border=\"1\" class=\"dataframe\">\n",
       "  <thead>\n",
       "    <tr style=\"text-align: right;\">\n",
       "      <th></th>\n",
       "      <th>distance</th>\n",
       "      <th>price</th>\n",
       "      <th>surge_multiplier</th>\n",
       "      <th>id</th>\n",
       "      <th>date_time_rides</th>\n",
       "      <th>temp</th>\n",
       "      <th>clouds</th>\n",
       "      <th>pressure</th>\n",
       "      <th>rain</th>\n",
       "      <th>humidity</th>\n",
       "      <th>...</th>\n",
       "      <th>name_Lux</th>\n",
       "      <th>name_Lux Black</th>\n",
       "      <th>name_Lux Black XL</th>\n",
       "      <th>name_Lyft</th>\n",
       "      <th>name_Lyft XL</th>\n",
       "      <th>name_Shared</th>\n",
       "      <th>name_UberPool</th>\n",
       "      <th>name_UberX</th>\n",
       "      <th>name_UberXL</th>\n",
       "      <th>name_WAV</th>\n",
       "    </tr>\n",
       "  </thead>\n",
       "  <tbody>\n",
       "    <tr>\n",
       "      <th>0</th>\n",
       "      <td>0.44</td>\n",
       "      <td>5.0</td>\n",
       "      <td>1.0</td>\n",
       "      <td>424553bb-7174-41ea-aeb4-fe06d4f4b9d7</td>\n",
       "      <td>2018-12-16 04:30:07</td>\n",
       "      <td>38.46</td>\n",
       "      <td>0.29</td>\n",
       "      <td>1022.25</td>\n",
       "      <td>NaN</td>\n",
       "      <td>0.76</td>\n",
       "      <td>...</td>\n",
       "      <td>0</td>\n",
       "      <td>0</td>\n",
       "      <td>0</td>\n",
       "      <td>0</td>\n",
       "      <td>0</td>\n",
       "      <td>1</td>\n",
       "      <td>0</td>\n",
       "      <td>0</td>\n",
       "      <td>0</td>\n",
       "      <td>0</td>\n",
       "    </tr>\n",
       "    <tr>\n",
       "      <th>1</th>\n",
       "      <td>0.44</td>\n",
       "      <td>11.0</td>\n",
       "      <td>1.0</td>\n",
       "      <td>4bd23055-6827-41c6-b23b-3c491f24e74d</td>\n",
       "      <td>2018-11-26 21:00:23</td>\n",
       "      <td>44.31</td>\n",
       "      <td>1.00</td>\n",
       "      <td>1003.17</td>\n",
       "      <td>0.1123</td>\n",
       "      <td>0.90</td>\n",
       "      <td>...</td>\n",
       "      <td>1</td>\n",
       "      <td>0</td>\n",
       "      <td>0</td>\n",
       "      <td>0</td>\n",
       "      <td>0</td>\n",
       "      <td>0</td>\n",
       "      <td>0</td>\n",
       "      <td>0</td>\n",
       "      <td>0</td>\n",
       "      <td>0</td>\n",
       "    </tr>\n",
       "    <tr>\n",
       "      <th>3</th>\n",
       "      <td>0.44</td>\n",
       "      <td>7.0</td>\n",
       "      <td>1.0</td>\n",
       "      <td>981a3613-77af-4620-a42a-0c0866077d1e</td>\n",
       "      <td>2018-11-27 20:00:22</td>\n",
       "      <td>NaN</td>\n",
       "      <td>NaN</td>\n",
       "      <td>NaN</td>\n",
       "      <td>NaN</td>\n",
       "      <td>NaN</td>\n",
       "      <td>...</td>\n",
       "      <td>0</td>\n",
       "      <td>0</td>\n",
       "      <td>0</td>\n",
       "      <td>1</td>\n",
       "      <td>0</td>\n",
       "      <td>0</td>\n",
       "      <td>0</td>\n",
       "      <td>0</td>\n",
       "      <td>0</td>\n",
       "      <td>0</td>\n",
       "    </tr>\n",
       "    <tr>\n",
       "      <th>4</th>\n",
       "      <td>0.44</td>\n",
       "      <td>26.0</td>\n",
       "      <td>1.0</td>\n",
       "      <td>c2d88af2-d278-4bfd-a8d0-29ca77cc5512</td>\n",
       "      <td>2018-11-29 23:53:02</td>\n",
       "      <td>35.08</td>\n",
       "      <td>0.00</td>\n",
       "      <td>1013.71</td>\n",
       "      <td>NaN</td>\n",
       "      <td>0.70</td>\n",
       "      <td>...</td>\n",
       "      <td>0</td>\n",
       "      <td>0</td>\n",
       "      <td>1</td>\n",
       "      <td>0</td>\n",
       "      <td>0</td>\n",
       "      <td>0</td>\n",
       "      <td>0</td>\n",
       "      <td>0</td>\n",
       "      <td>0</td>\n",
       "      <td>0</td>\n",
       "    </tr>\n",
       "    <tr>\n",
       "      <th>5</th>\n",
       "      <td>0.44</td>\n",
       "      <td>9.0</td>\n",
       "      <td>1.0</td>\n",
       "      <td>e0126e1f-8ca9-4f2e-82b3-50505a09db9a</td>\n",
       "      <td>2018-11-28 22:49:20</td>\n",
       "      <td>37.58</td>\n",
       "      <td>0.42</td>\n",
       "      <td>998.64</td>\n",
       "      <td>NaN</td>\n",
       "      <td>0.71</td>\n",
       "      <td>...</td>\n",
       "      <td>0</td>\n",
       "      <td>0</td>\n",
       "      <td>0</td>\n",
       "      <td>0</td>\n",
       "      <td>1</td>\n",
       "      <td>0</td>\n",
       "      <td>0</td>\n",
       "      <td>0</td>\n",
       "      <td>0</td>\n",
       "      <td>0</td>\n",
       "    </tr>\n",
       "  </tbody>\n",
       "</table>\n",
       "<p>5 rows × 49 columns</p>\n",
       "</div>"
      ],
      "text/plain": [
       "   distance  price  surge_multiplier                                    id  \\\n",
       "0      0.44    5.0               1.0  424553bb-7174-41ea-aeb4-fe06d4f4b9d7   \n",
       "1      0.44   11.0               1.0  4bd23055-6827-41c6-b23b-3c491f24e74d   \n",
       "3      0.44    7.0               1.0  981a3613-77af-4620-a42a-0c0866077d1e   \n",
       "4      0.44   26.0               1.0  c2d88af2-d278-4bfd-a8d0-29ca77cc5512   \n",
       "5      0.44    9.0               1.0  e0126e1f-8ca9-4f2e-82b3-50505a09db9a   \n",
       "\n",
       "      date_time_rides   temp  clouds  pressure    rain  humidity    ...     \\\n",
       "0 2018-12-16 04:30:07  38.46    0.29   1022.25     NaN      0.76    ...      \n",
       "1 2018-11-26 21:00:23  44.31    1.00   1003.17  0.1123      0.90    ...      \n",
       "3 2018-11-27 20:00:22    NaN     NaN       NaN     NaN       NaN    ...      \n",
       "4 2018-11-29 23:53:02  35.08    0.00   1013.71     NaN      0.70    ...      \n",
       "5 2018-11-28 22:49:20  37.58    0.42    998.64     NaN      0.71    ...      \n",
       "\n",
       "   name_Lux  name_Lux Black  name_Lux Black XL  name_Lyft  name_Lyft XL  \\\n",
       "0         0               0                  0          0             0   \n",
       "1         1               0                  0          0             0   \n",
       "3         0               0                  0          1             0   \n",
       "4         0               0                  1          0             0   \n",
       "5         0               0                  0          0             1   \n",
       "\n",
       "   name_Shared  name_UberPool  name_UberX  name_UberXL  name_WAV  \n",
       "0            1              0           0            0         0  \n",
       "1            0              0           0            0         0  \n",
       "3            0              0           0            0         0  \n",
       "4            0              0           0            0         0  \n",
       "5            0              0           0            0         0  \n",
       "\n",
       "[5 rows x 49 columns]"
      ]
     },
     "execution_count": 8,
     "metadata": {},
     "output_type": "execute_result"
    }
   ],
   "source": [
    "full_df = pd.merge(rides_df, weather_df, on='merge_date', suffixes=('_rides', '_weather'), how='left')\n",
    "full_df.drop(['date_time_weather', 'time_stamp_weather', \n",
    "              'time_stamp_rides', 'merge_date', \n",
    "              'location'], axis=1, inplace=True)\n",
    "full_df = pd.get_dummies(full_df, columns=['cab_type', 'destination', 'source', 'name'])\n",
    "full_df.drop_duplicates(subset='id', keep='first', inplace=True)\n",
    "full_df.head()"
   ]
  },
  {
   "cell_type": "code",
   "execution_count": 9,
   "metadata": {},
   "outputs": [],
   "source": [
    "full_df['rain'] = full_df.rain.fillna(0)"
   ]
  },
  {
   "cell_type": "code",
   "execution_count": 10,
   "metadata": {},
   "outputs": [
    {
     "data": {
      "text/plain": [
       "distance                                  0\n",
       "price                                     0\n",
       "surge_multiplier                          0\n",
       "id                                        0\n",
       "date_time_rides                           0\n",
       "temp                                   2734\n",
       "clouds                                 2734\n",
       "pressure                               2734\n",
       "rain                                      0\n",
       "humidity                               2734\n",
       "wind                                   2734\n",
       "cab_type_Lyft                             0\n",
       "cab_type_Uber                             0\n",
       "destination_Back Bay                      0\n",
       "destination_Beacon Hill                   0\n",
       "destination_Boston University             0\n",
       "destination_Fenway                        0\n",
       "destination_Financial District            0\n",
       "destination_Haymarket Square              0\n",
       "destination_North End                     0\n",
       "destination_North Station                 0\n",
       "destination_Northeastern University       0\n",
       "destination_South Station                 0\n",
       "destination_Theatre District              0\n",
       "destination_West End                      0\n",
       "source_Back Bay                           0\n",
       "source_Beacon Hill                        0\n",
       "source_Boston University                  0\n",
       "source_Fenway                             0\n",
       "source_Financial District                 0\n",
       "source_Haymarket Square                   0\n",
       "source_North End                          0\n",
       "source_North Station                      0\n",
       "source_Northeastern University            0\n",
       "source_South Station                      0\n",
       "source_Theatre District                   0\n",
       "source_West End                           0\n",
       "name_Black                                0\n",
       "name_Black SUV                            0\n",
       "name_Lux                                  0\n",
       "name_Lux Black                            0\n",
       "name_Lux Black XL                         0\n",
       "name_Lyft                                 0\n",
       "name_Lyft XL                              0\n",
       "name_Shared                               0\n",
       "name_UberPool                             0\n",
       "name_UberX                                0\n",
       "name_UberXL                               0\n",
       "name_WAV                                  0\n",
       "dtype: int64"
      ]
     },
     "execution_count": 10,
     "metadata": {},
     "output_type": "execute_result"
    }
   ],
   "source": [
    "np.sum(full_df.isna(), axis=0)"
   ]
  },
  {
   "cell_type": "code",
   "execution_count": 11,
   "metadata": {},
   "outputs": [],
   "source": [
    "full_df.dropna(inplace=True)"
   ]
  },
  {
   "cell_type": "code",
   "execution_count": 12,
   "metadata": {},
   "outputs": [],
   "source": [
    "full_df.drop('id', axis=1, inplace=True)"
   ]
  },
  {
   "cell_type": "code",
   "execution_count": 13,
   "metadata": {},
   "outputs": [],
   "source": [
    "full_df.to_csv('data/rides_weather_df.csv')"
   ]
  },
  {
   "cell_type": "code",
   "execution_count": null,
   "metadata": {},
   "outputs": [],
   "source": []
  }
 ],
 "metadata": {
  "kernelspec": {
   "display_name": "Python 3",
   "language": "python",
   "name": "python3"
  },
  "language_info": {
   "codemirror_mode": {
    "name": "ipython",
    "version": 3
   },
   "file_extension": ".py",
   "mimetype": "text/x-python",
   "name": "python",
   "nbconvert_exporter": "python",
   "pygments_lexer": "ipython3",
   "version": "3.6.8"
  }
 },
 "nbformat": 4,
 "nbformat_minor": 2
}
