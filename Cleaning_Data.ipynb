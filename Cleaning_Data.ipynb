{
 "cells": [
  {
   "cell_type": "code",
   "execution_count": 1,
   "metadata": {},
   "outputs": [],
   "source": [
    "import numpy as np\n",
    "import pandas as pd\n",
    "import time"
   ]
  },
  {
   "cell_type": "markdown",
   "metadata": {},
   "source": [
    "### 1. Import dataset downloaded from Kaggle and create time-related features"
   ]
  },
  {
   "cell_type": "code",
   "execution_count": 2,
   "metadata": {},
   "outputs": [],
   "source": [
    "df = pd.read_csv('data/cab_rides.csv')"
   ]
  },
  {
   "cell_type": "code",
   "execution_count": 3,
   "metadata": {
    "scrolled": true
   },
   "outputs": [],
   "source": [
    "df['day']=df.time_stamp.apply(lambda x: time.strftime('%a', time.localtime(x/1000)))\n",
    "df['AMPM']=df.time_stamp.apply(lambda x: time.strftime('%p', time.localtime(x/1000)))\n",
    "df['month']=df.time_stamp.apply(lambda x: time.strftime('%b', time.localtime(x/1000)))\n",
    "df['time']=df.time_stamp.apply(lambda x: time.strftime('%H', time.localtime(x/1000)))\n",
    "df['week']=df.time_stamp.apply(lambda x: time.strftime('%U', time.localtime(x/1000)))\n",
    "df['date_time']=df.time_stamp.apply(lambda x: time.strftime('%Y-%m-%d %H', time.localtime(x/1000)))\n"
   ]
  },
  {
   "cell_type": "markdown",
   "metadata": {},
   "source": [
    "### 2. Create variable as key for merging with a weather data set"
   ]
  },
  {
   "cell_type": "code",
   "execution_count": 4,
   "metadata": {},
   "outputs": [
    {
     "data": {
      "text/html": [
       "<div>\n",
       "<style scoped>\n",
       "    .dataframe tbody tr th:only-of-type {\n",
       "        vertical-align: middle;\n",
       "    }\n",
       "\n",
       "    .dataframe tbody tr th {\n",
       "        vertical-align: top;\n",
       "    }\n",
       "\n",
       "    .dataframe thead th {\n",
       "        text-align: right;\n",
       "    }\n",
       "</style>\n",
       "<table border=\"1\" class=\"dataframe\">\n",
       "  <thead>\n",
       "    <tr style=\"text-align: right;\">\n",
       "      <th></th>\n",
       "      <th>distance</th>\n",
       "      <th>cab_type</th>\n",
       "      <th>time_stamp_c</th>\n",
       "      <th>destination</th>\n",
       "      <th>source</th>\n",
       "      <th>price</th>\n",
       "      <th>surge_multiplier</th>\n",
       "      <th>id</th>\n",
       "      <th>product_id</th>\n",
       "      <th>name</th>\n",
       "      <th>...</th>\n",
       "      <th>merge_date</th>\n",
       "      <th>temp</th>\n",
       "      <th>location</th>\n",
       "      <th>clouds</th>\n",
       "      <th>pressure</th>\n",
       "      <th>rain</th>\n",
       "      <th>time_stamp_w</th>\n",
       "      <th>humidity</th>\n",
       "      <th>wind</th>\n",
       "      <th>date_time_w</th>\n",
       "    </tr>\n",
       "  </thead>\n",
       "  <tbody>\n",
       "    <tr>\n",
       "      <th>0</th>\n",
       "      <td>0.44</td>\n",
       "      <td>Lyft</td>\n",
       "      <td>1544952607890</td>\n",
       "      <td>North Station</td>\n",
       "      <td>Haymarket Square</td>\n",
       "      <td>5.0</td>\n",
       "      <td>1.0</td>\n",
       "      <td>424553bb-7174-41ea-aeb4-fe06d4f4b9d7</td>\n",
       "      <td>lyft_line</td>\n",
       "      <td>Shared</td>\n",
       "      <td>...</td>\n",
       "      <td>Haymarket Square - 2018-12-16 04</td>\n",
       "      <td>38.46</td>\n",
       "      <td>Haymarket Square</td>\n",
       "      <td>0.29</td>\n",
       "      <td>1022.25</td>\n",
       "      <td>NaN</td>\n",
       "      <td>1544953501</td>\n",
       "      <td>0.76</td>\n",
       "      <td>7.68</td>\n",
       "      <td>2018-12-16 04</td>\n",
       "    </tr>\n",
       "    <tr>\n",
       "      <th>1</th>\n",
       "      <td>1.33</td>\n",
       "      <td>Lyft</td>\n",
       "      <td>1544952309308</td>\n",
       "      <td>Beacon Hill</td>\n",
       "      <td>Haymarket Square</td>\n",
       "      <td>7.0</td>\n",
       "      <td>1.0</td>\n",
       "      <td>0d468502-34b5-447f-be9f-acbb62176072</td>\n",
       "      <td>lyft</td>\n",
       "      <td>Lyft</td>\n",
       "      <td>...</td>\n",
       "      <td>Haymarket Square - 2018-12-16 04</td>\n",
       "      <td>38.46</td>\n",
       "      <td>Haymarket Square</td>\n",
       "      <td>0.29</td>\n",
       "      <td>1022.25</td>\n",
       "      <td>NaN</td>\n",
       "      <td>1544953501</td>\n",
       "      <td>0.76</td>\n",
       "      <td>7.68</td>\n",
       "      <td>2018-12-16 04</td>\n",
       "    </tr>\n",
       "    <tr>\n",
       "      <th>2</th>\n",
       "      <td>0.53</td>\n",
       "      <td>Lyft</td>\n",
       "      <td>1544951109578</td>\n",
       "      <td>North Station</td>\n",
       "      <td>Haymarket Square</td>\n",
       "      <td>27.5</td>\n",
       "      <td>1.0</td>\n",
       "      <td>2aa8d17e-4b13-4200-87db-db3eed73ca6b</td>\n",
       "      <td>lyft_luxsuv</td>\n",
       "      <td>Lux Black XL</td>\n",
       "      <td>...</td>\n",
       "      <td>Haymarket Square - 2018-12-16 04</td>\n",
       "      <td>38.46</td>\n",
       "      <td>Haymarket Square</td>\n",
       "      <td>0.29</td>\n",
       "      <td>1022.25</td>\n",
       "      <td>NaN</td>\n",
       "      <td>1544953501</td>\n",
       "      <td>0.76</td>\n",
       "      <td>7.68</td>\n",
       "      <td>2018-12-16 04</td>\n",
       "    </tr>\n",
       "    <tr>\n",
       "      <th>3</th>\n",
       "      <td>2.36</td>\n",
       "      <td>Lyft</td>\n",
       "      <td>1544954108860</td>\n",
       "      <td>Back Bay</td>\n",
       "      <td>Haymarket Square</td>\n",
       "      <td>7.0</td>\n",
       "      <td>1.0</td>\n",
       "      <td>4944c164-0463-47b9-96e1-15ffe8b9c7c9</td>\n",
       "      <td>lyft_line</td>\n",
       "      <td>Shared</td>\n",
       "      <td>...</td>\n",
       "      <td>Haymarket Square - 2018-12-16 04</td>\n",
       "      <td>38.46</td>\n",
       "      <td>Haymarket Square</td>\n",
       "      <td>0.29</td>\n",
       "      <td>1022.25</td>\n",
       "      <td>NaN</td>\n",
       "      <td>1544953501</td>\n",
       "      <td>0.76</td>\n",
       "      <td>7.68</td>\n",
       "      <td>2018-12-16 04</td>\n",
       "    </tr>\n",
       "    <tr>\n",
       "      <th>4</th>\n",
       "      <td>0.62</td>\n",
       "      <td>Uber</td>\n",
       "      <td>1544954108161</td>\n",
       "      <td>West End</td>\n",
       "      <td>Haymarket Square</td>\n",
       "      <td>10.5</td>\n",
       "      <td>1.0</td>\n",
       "      <td>b1c23003-39fb-4030-9961-4f3420b23907</td>\n",
       "      <td>6f72dfc5-27f1-42e8-84db-ccc7a75f6969</td>\n",
       "      <td>UberXL</td>\n",
       "      <td>...</td>\n",
       "      <td>Haymarket Square - 2018-12-16 04</td>\n",
       "      <td>38.46</td>\n",
       "      <td>Haymarket Square</td>\n",
       "      <td>0.29</td>\n",
       "      <td>1022.25</td>\n",
       "      <td>NaN</td>\n",
       "      <td>1544953501</td>\n",
       "      <td>0.76</td>\n",
       "      <td>7.68</td>\n",
       "      <td>2018-12-16 04</td>\n",
       "    </tr>\n",
       "  </tbody>\n",
       "</table>\n",
       "<p>5 rows × 26 columns</p>\n",
       "</div>"
      ],
      "text/plain": [
       "   distance cab_type   time_stamp_c    destination            source  price  \\\n",
       "0      0.44     Lyft  1544952607890  North Station  Haymarket Square    5.0   \n",
       "1      1.33     Lyft  1544952309308    Beacon Hill  Haymarket Square    7.0   \n",
       "2      0.53     Lyft  1544951109578  North Station  Haymarket Square   27.5   \n",
       "3      2.36     Lyft  1544954108860       Back Bay  Haymarket Square    7.0   \n",
       "4      0.62     Uber  1544954108161       West End  Haymarket Square   10.5   \n",
       "\n",
       "   surge_multiplier                                    id  \\\n",
       "0               1.0  424553bb-7174-41ea-aeb4-fe06d4f4b9d7   \n",
       "1               1.0  0d468502-34b5-447f-be9f-acbb62176072   \n",
       "2               1.0  2aa8d17e-4b13-4200-87db-db3eed73ca6b   \n",
       "3               1.0  4944c164-0463-47b9-96e1-15ffe8b9c7c9   \n",
       "4               1.0  b1c23003-39fb-4030-9961-4f3420b23907   \n",
       "\n",
       "                             product_id          name      ...        \\\n",
       "0                             lyft_line        Shared      ...         \n",
       "1                                  lyft          Lyft      ...         \n",
       "2                           lyft_luxsuv  Lux Black XL      ...         \n",
       "3                             lyft_line        Shared      ...         \n",
       "4  6f72dfc5-27f1-42e8-84db-ccc7a75f6969        UberXL      ...         \n",
       "\n",
       "                         merge_date   temp          location clouds pressure  \\\n",
       "0  Haymarket Square - 2018-12-16 04  38.46  Haymarket Square   0.29  1022.25   \n",
       "1  Haymarket Square - 2018-12-16 04  38.46  Haymarket Square   0.29  1022.25   \n",
       "2  Haymarket Square - 2018-12-16 04  38.46  Haymarket Square   0.29  1022.25   \n",
       "3  Haymarket Square - 2018-12-16 04  38.46  Haymarket Square   0.29  1022.25   \n",
       "4  Haymarket Square - 2018-12-16 04  38.46  Haymarket Square   0.29  1022.25   \n",
       "\n",
       "  rain time_stamp_w  humidity  wind    date_time_w  \n",
       "0  NaN   1544953501      0.76  7.68  2018-12-16 04  \n",
       "1  NaN   1544953501      0.76  7.68  2018-12-16 04  \n",
       "2  NaN   1544953501      0.76  7.68  2018-12-16 04  \n",
       "3  NaN   1544953501      0.76  7.68  2018-12-16 04  \n",
       "4  NaN   1544953501      0.76  7.68  2018-12-16 04  \n",
       "\n",
       "[5 rows x 26 columns]"
      ]
     },
     "execution_count": 4,
     "metadata": {},
     "output_type": "execute_result"
    }
   ],
   "source": [
    "df['merge_date'] = df.source.astype(str) +\" - \"+ df.date_time.astype(\"str\") \n",
    "df1 = pd.read_csv('data/weather.csv')\n",
    "df1['date_time']=df1.time_stamp.apply(lambda x: time.strftime('%Y-%m-%d %H', time.localtime(x)))\n",
    "#create a variable with time and location for merging\n",
    "df1['merge_date'] = df1.location.astype(str) +\" - \"+ df1.date_time.astype(\"str\") \n",
    "merged_df = df.merge(df1, how='inner', left_on = ['merge_date'], right_on=['merge_date'], suffixes=('_c','_w'))\n",
    "merged_df.head()"
   ]
  },
  {
   "cell_type": "markdown",
   "metadata": {},
   "source": [
    "### 3. Further cleaning of the merged dataframe and create additional features that might have predictive power"
   ]
  },
  {
   "cell_type": "code",
   "execution_count": 5,
   "metadata": {},
   "outputs": [],
   "source": [
    "# drop duplicates\n",
    "merged_df.drop_duplicates(subset='id', keep='first', inplace=True)\n"
   ]
  },
  {
   "cell_type": "code",
   "execution_count": 6,
   "metadata": {},
   "outputs": [],
   "source": [
    "merged_df['time'] = merged_df['time'].astype(int)"
   ]
  },
  {
   "cell_type": "code",
   "execution_count": 7,
   "metadata": {},
   "outputs": [],
   "source": [
    "merged_df['rushhr'] = 0\n",
    "merged_df.loc[(merged_df.time > 7) & (merged_df.time < 10), 'rushhr'] = 1\n",
    "merged_df.loc[(merged_df.time > 17) & (merged_df.time < 22), 'rushhr'] = 1"
   ]
  },
  {
   "cell_type": "code",
   "execution_count": 8,
   "metadata": {},
   "outputs": [],
   "source": [
    "#one hot encoding all the categorical variables\n",
    "merged_df = pd.get_dummies(merged_df, columns=[\n",
    "                           'cab_type', 'destination', 'source', 'name', 'day', 'AMPM', 'month', 'week'])"
   ]
  },
  {
   "cell_type": "code",
   "execution_count": 9,
   "metadata": {},
   "outputs": [],
   "source": [
    "merged_df['wkndPM']=0\n",
    "merged_df.loc[(merged_df.day_Fri == 1) & (merged_df.AMPM_PM == 1), 'wkndPM'] = 1\n",
    "merged_df.loc[(merged_df.day_Sat == 1) & (merged_df.AMPM_PM == 1), 'wkndPM'] = 1\n",
    "merged_df.loc[(merged_df.day_Sun == 1) & (merged_df.AMPM_PM == 1), 'wkndPM'] = 1\n",
    "wkndPMdf = merged_df.groupby('merge_date')['wkndPM'].sum()"
   ]
  },
  {
   "cell_type": "code",
   "execution_count": 10,
   "metadata": {},
   "outputs": [],
   "source": [
    "merged_df['Black'] = 0\n",
    "merged_df['Black'] = merged_df['name_Black'] + merged_df['name_Black SUV'] + \\\n",
    "    merged_df['name_Lux Black'] + merged_df['name_Lux Black XL']"
   ]
  },
  {
   "cell_type": "code",
   "execution_count": 11,
   "metadata": {},
   "outputs": [],
   "source": [
    "merged_df['base_price'] = merged_df.price/merged_df.surge_multiplier"
   ]
  },
  {
   "cell_type": "code",
   "execution_count": 12,
   "metadata": {},
   "outputs": [],
   "source": [
    "merged_df['sports'] = 0\n",
    "#A sport event dummy that equals 1 when a major sport team in the city has a game that day (Patriots, Celtics, Bruins)\n",
    "merged_df.loc[(merged_df.date_time_c.str.contains('2018-12-02')) & (merged_df.AMPM_PM == 1), 'sports'] = 1\n",
    "merged_df.loc[(merged_df.date_time_c.str.contains('2018-11-30')) & (merged_df.AMPM_PM == 1), 'sports'] = 1\n",
    "merged_df.loc[(merged_df.date_time_c.str.contains('2018-12-06')) & (merged_df.AMPM_PM == 1), 'sports'] = 1\n",
    "merged_df.loc[(merged_df.date_time_c.str.contains('2018-12-10')) & (merged_df.AMPM_PM == 1), 'sports'] = 1\n",
    "merged_df.loc[(merged_df.date_time_c.str.contains('2018-12-14')) & (merged_df.AMPM_PM == 1), 'sports'] = 1\n",
    "merged_df.loc[(merged_df.date_time_c.str.contains('2018-11-29')) & (merged_df.AMPM_PM == 1), 'sports'] = 1\n",
    "merged_df.loc[(merged_df.date_time_c.str.contains('2018-12-01')) & (merged_df.AMPM_PM == 1), 'sports'] = 1\n",
    "merged_df.loc[(merged_df.date_time_c.str.contains('2018-12-08')) & (merged_df.AMPM_PM == 1), 'sports'] = 1\n",
    "merged_df.loc[(merged_df.date_time_c.str.contains('2018-12-11')) & (merged_df.AMPM_PM == 1), 'sports'] = 1\n",
    "merged_df.loc[(merged_df.date_time_c.str.contains('2018-12-16')) & (merged_df.AMPM_PM == 1), 'sports'] = 1"
   ]
  },
  {
   "cell_type": "code",
   "execution_count": 13,
   "metadata": {},
   "outputs": [],
   "source": [
    "sportdf = merged_df.groupby('date_time_c')['sports'].sum()"
   ]
  },
  {
   "cell_type": "code",
   "execution_count": 14,
   "metadata": {},
   "outputs": [
    {
     "name": "stderr",
     "output_type": "stream",
     "text": [
      "/Users/anthonyschams/anaconda/lib/python3.6/site-packages/ipykernel_launcher.py:4: RuntimeWarning: divide by zero encountered in log\n",
      "  after removing the cwd from sys.path.\n"
     ]
    }
   ],
   "source": [
    "# log-transforming all numerical variables\n",
    "names = ['distance', 'price', 'temp', 'clouds', 'pressure', 'rain', 'humidity', 'wind', 'base_price', 'surge_multiplier']\n",
    "for n in names:\n",
    "    merged_df[f'l{n}'] = np.log(merged_df[n])"
   ]
  },
  {
   "cell_type": "markdown",
   "metadata": {},
   "source": [
    "### 4. Drop rows with nan values and clean the nan values in the rain variable"
   ]
  },
  {
   "cell_type": "code",
   "execution_count": 15,
   "metadata": {},
   "outputs": [],
   "source": [
    "merged_df.rain.fillna(0, inplace= True)\n",
    "merged_df['rain_d']=0\n",
    "\n",
    "merged_df.loc[(merged_df.rain) > 0, 'rain_d'] = 1\n",
    "\n",
    "merged_df.dropna(inplace=True)\n",
    "\n",
    "merged_df.drop(['time_stamp_c', 'time_stamp_w', 'date_time_c',\n",
    "                'date_time_w', 'id', 'product_id'], axis=1, inplace=True)\n",
    "\n",
    "merged_df.drop(['lrain', 'lclouds'], axis=1, inplace=True)\n",
    "\n",
    "# save cleaned dataset locally\n",
    "merged_df.to_csv('data/merged_df.csv')"
   ]
  },
  {
   "cell_type": "code",
   "execution_count": null,
   "metadata": {},
   "outputs": [],
   "source": []
  }
 ],
 "metadata": {
  "kernelspec": {
   "display_name": "Python 3",
   "language": "python",
   "name": "python3"
  },
  "language_info": {
   "codemirror_mode": {
    "name": "ipython",
    "version": 3
   },
   "file_extension": ".py",
   "mimetype": "text/x-python",
   "name": "python",
   "nbconvert_exporter": "python",
   "pygments_lexer": "ipython3",
   "version": "3.6.8"
  }
 },
 "nbformat": 4,
 "nbformat_minor": 2
}
