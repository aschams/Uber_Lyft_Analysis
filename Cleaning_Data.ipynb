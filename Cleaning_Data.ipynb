{
 "cells": [
  {
   "cell_type": "code",
   "execution_count": 35,
   "metadata": {},
   "outputs": [],
   "source": [
    "import datetime\n",
    "import matplotlib.pyplot as plt\n",
    "import numpy as np\n",
    "import pandas as pd\n",
    "import seaborn as sns\n"
   ]
  },
  {
   "cell_type": "code",
   "execution_count": 36,
   "metadata": {},
   "outputs": [],
   "source": [
    "rides_df = pd.read_csv('data/cab_rides.csv')\n",
    "weather_df = pd.read_csv('data/weather.csv')\n",
    "rides_df.drop(['product_id'], axis=1, inplace=True)"
   ]
  },
  {
   "cell_type": "code",
   "execution_count": 37,
   "metadata": {},
   "outputs": [],
   "source": [
    "rides_df['date_time'] = rides_df.apply(lambda x: datetime.datetime.fromtimestamp(x['time_stamp']/1000)\n",
    "                                       .strftime('%c'), \n",
    "                                       axis=1)\n",
    "rides_df['date_time'] = pd.to_datetime(rides_df.date_time)\n",
    "rides_df['time_since_start'] = (rides_df.time_stamp / 1000)\n",
    "rides_df.time_since_start = rides_df.time_since_start - min(rides_df.time_since_start)\n",
    "weather_df['date_time'] = weather_df.apply(lambda x: datetime.datetime.fromtimestamp(x['time_stamp'])\n",
    "                                           .strftime('%c'), \n",
    "                                           axis=1)\n",
    "weather_df['date_time'] = pd.to_datetime(weather_df.date_time)"
   ]
  },
  {
   "cell_type": "code",
   "execution_count": 38,
   "metadata": {},
   "outputs": [],
   "source": [
    "rides_df['merge_date'] = (rides_df.source.astype('str')+ ' - ' \n",
    "                          + rides_df.date_time.dt.date.astype('str') \n",
    "                          + ' '\n",
    "                          + rides_df.date_time.dt.hour.astype('str'))\n",
    "\n",
    "weather_df['merge_date'] = (weather_df.location.astype('str') + ' - '\n",
    "                            + weather_df.date_time.dt.date.astype('str')\n",
    "                            + ' '\n",
    "                            + weather_df.date_time.dt.hour.astype('str'))\n"
   ]
  },
  {
   "cell_type": "code",
   "execution_count": 39,
   "metadata": {},
   "outputs": [
    {
     "data": {
      "text/plain": [
       "distance                0\n",
       "cab_type                0\n",
       "time_stamp              0\n",
       "destination             0\n",
       "source                  0\n",
       "price               55095\n",
       "surge_multiplier        0\n",
       "id                      0\n",
       "name                    0\n",
       "date_time               0\n",
       "time_since_start        0\n",
       "merge_date              0\n",
       "dtype: int64"
      ]
     },
     "execution_count": 39,
     "metadata": {},
     "output_type": "execute_result"
    }
   ],
   "source": [
    "np.sum(rides_df.isna())"
   ]
  },
  {
   "cell_type": "code",
   "execution_count": 40,
   "metadata": {},
   "outputs": [],
   "source": [
    "rides_df.dropna(inplace=True)\n",
    "rides_df['hour_of_day'] = rides_df.date_time.dt.hour\n",
    "rides_df.to_csv('data/rides_data2.csv')"
   ]
  },
  {
   "cell_type": "code",
   "execution_count": 41,
   "metadata": {},
   "outputs": [
    {
     "name": "stdout",
     "output_type": "stream",
     "text": [
      "<class 'pandas.core.frame.DataFrame'>\n",
      "Int64Index: 637976 entries, 0 to 693070\n",
      "Data columns (total 13 columns):\n",
      "distance            637976 non-null float64\n",
      "cab_type            637976 non-null object\n",
      "time_stamp          637976 non-null int64\n",
      "destination         637976 non-null object\n",
      "source              637976 non-null object\n",
      "price               637976 non-null float64\n",
      "surge_multiplier    637976 non-null float64\n",
      "id                  637976 non-null object\n",
      "name                637976 non-null object\n",
      "date_time           637976 non-null datetime64[ns]\n",
      "time_since_start    637976 non-null float64\n",
      "merge_date          637976 non-null object\n",
      "hour_of_day         637976 non-null int64\n",
      "dtypes: datetime64[ns](1), float64(4), int64(2), object(6)\n",
      "memory usage: 68.1+ MB\n"
     ]
    }
   ],
   "source": [
    "rides_df.info()"
   ]
  },
  {
   "cell_type": "code",
   "execution_count": 42,
   "metadata": {},
   "outputs": [
    {
     "data": {
      "text/plain": [
       "Index(['distance', 'price', 'surge_multiplier', 'date_time_rides', 'temp',\n",
       "       'clouds', 'pressure', 'rain', 'humidity', 'wind', 'cab_type_Lyft',\n",
       "       'cab_type_Uber', 'destination_Back Bay', 'destination_Beacon Hill',\n",
       "       'destination_Boston University', 'destination_Fenway',\n",
       "       'destination_Financial District', 'destination_Haymarket Square',\n",
       "       'destination_North End', 'destination_North Station',\n",
       "       'destination_Northeastern University', 'destination_South Station',\n",
       "       'destination_Theatre District', 'destination_West End',\n",
       "       'source_Back Bay', 'source_Beacon Hill', 'source_Boston University',\n",
       "       'source_Fenway', 'source_Financial District', 'source_Haymarket Square',\n",
       "       'source_North End', 'source_North Station',\n",
       "       'source_Northeastern University', 'source_South Station',\n",
       "       'source_Theatre District', 'source_West End', 'name_Black',\n",
       "       'name_Black SUV', 'name_Lux', 'name_Lux Black', 'name_Lux Black XL',\n",
       "       'name_Lyft', 'name_Lyft XL', 'name_Shared', 'name_UberPool',\n",
       "       'name_UberX', 'name_UberXL', 'name_WAV', 'hour_of_day_0',\n",
       "       'hour_of_day_1', 'hour_of_day_2', 'hour_of_day_3', 'hour_of_day_4',\n",
       "       'hour_of_day_5', 'hour_of_day_6', 'hour_of_day_7', 'hour_of_day_8',\n",
       "       'hour_of_day_9', 'hour_of_day_10', 'hour_of_day_11', 'hour_of_day_12',\n",
       "       'hour_of_day_13', 'hour_of_day_14', 'hour_of_day_15', 'hour_of_day_16',\n",
       "       'hour_of_day_17', 'hour_of_day_18', 'hour_of_day_19', 'hour_of_day_20',\n",
       "       'hour_of_day_21', 'hour_of_day_22', 'hour_of_day_23'],\n",
       "      dtype='object')"
      ]
     },
     "execution_count": 42,
     "metadata": {},
     "output_type": "execute_result"
    }
   ],
   "source": [
    "full_df.columns"
   ]
  },
  {
   "cell_type": "code",
   "execution_count": 43,
   "metadata": {},
   "outputs": [
    {
     "data": {
      "text/html": [
       "<div>\n",
       "<style scoped>\n",
       "    .dataframe tbody tr th:only-of-type {\n",
       "        vertical-align: middle;\n",
       "    }\n",
       "\n",
       "    .dataframe tbody tr th {\n",
       "        vertical-align: top;\n",
       "    }\n",
       "\n",
       "    .dataframe thead th {\n",
       "        text-align: right;\n",
       "    }\n",
       "</style>\n",
       "<table border=\"1\" class=\"dataframe\">\n",
       "  <thead>\n",
       "    <tr style=\"text-align: right;\">\n",
       "      <th></th>\n",
       "      <th>distance</th>\n",
       "      <th>price</th>\n",
       "      <th>surge_multiplier</th>\n",
       "      <th>id</th>\n",
       "      <th>date_time_rides</th>\n",
       "      <th>time_since_start</th>\n",
       "      <th>temp</th>\n",
       "      <th>clouds</th>\n",
       "      <th>pressure</th>\n",
       "      <th>rain</th>\n",
       "      <th>...</th>\n",
       "      <th>hour_of_day_14</th>\n",
       "      <th>hour_of_day_15</th>\n",
       "      <th>hour_of_day_16</th>\n",
       "      <th>hour_of_day_17</th>\n",
       "      <th>hour_of_day_18</th>\n",
       "      <th>hour_of_day_19</th>\n",
       "      <th>hour_of_day_20</th>\n",
       "      <th>hour_of_day_21</th>\n",
       "      <th>hour_of_day_22</th>\n",
       "      <th>hour_of_day_23</th>\n",
       "    </tr>\n",
       "  </thead>\n",
       "  <tbody>\n",
       "    <tr>\n",
       "      <th>0</th>\n",
       "      <td>0.44</td>\n",
       "      <td>5.0</td>\n",
       "      <td>1.0</td>\n",
       "      <td>424553bb-7174-41ea-aeb4-fe06d4f4b9d7</td>\n",
       "      <td>2018-12-16 04:30:07</td>\n",
       "      <td>1748961.572</td>\n",
       "      <td>38.46</td>\n",
       "      <td>0.29</td>\n",
       "      <td>1022.25</td>\n",
       "      <td>NaN</td>\n",
       "      <td>...</td>\n",
       "      <td>0</td>\n",
       "      <td>0</td>\n",
       "      <td>0</td>\n",
       "      <td>0</td>\n",
       "      <td>0</td>\n",
       "      <td>0</td>\n",
       "      <td>0</td>\n",
       "      <td>0</td>\n",
       "      <td>0</td>\n",
       "      <td>0</td>\n",
       "    </tr>\n",
       "    <tr>\n",
       "      <th>1</th>\n",
       "      <td>0.44</td>\n",
       "      <td>11.0</td>\n",
       "      <td>1.0</td>\n",
       "      <td>4bd23055-6827-41c6-b23b-3c491f24e74d</td>\n",
       "      <td>2018-11-26 21:00:23</td>\n",
       "      <td>80377.359</td>\n",
       "      <td>44.31</td>\n",
       "      <td>1.00</td>\n",
       "      <td>1003.17</td>\n",
       "      <td>0.1123</td>\n",
       "      <td>...</td>\n",
       "      <td>0</td>\n",
       "      <td>0</td>\n",
       "      <td>0</td>\n",
       "      <td>0</td>\n",
       "      <td>0</td>\n",
       "      <td>0</td>\n",
       "      <td>0</td>\n",
       "      <td>1</td>\n",
       "      <td>0</td>\n",
       "      <td>0</td>\n",
       "    </tr>\n",
       "    <tr>\n",
       "      <th>3</th>\n",
       "      <td>0.44</td>\n",
       "      <td>7.0</td>\n",
       "      <td>1.0</td>\n",
       "      <td>981a3613-77af-4620-a42a-0c0866077d1e</td>\n",
       "      <td>2018-11-27 20:00:22</td>\n",
       "      <td>163175.880</td>\n",
       "      <td>NaN</td>\n",
       "      <td>NaN</td>\n",
       "      <td>NaN</td>\n",
       "      <td>NaN</td>\n",
       "      <td>...</td>\n",
       "      <td>0</td>\n",
       "      <td>0</td>\n",
       "      <td>0</td>\n",
       "      <td>0</td>\n",
       "      <td>0</td>\n",
       "      <td>0</td>\n",
       "      <td>1</td>\n",
       "      <td>0</td>\n",
       "      <td>0</td>\n",
       "      <td>0</td>\n",
       "    </tr>\n",
       "    <tr>\n",
       "      <th>4</th>\n",
       "      <td>0.44</td>\n",
       "      <td>26.0</td>\n",
       "      <td>1.0</td>\n",
       "      <td>c2d88af2-d278-4bfd-a8d0-29ca77cc5512</td>\n",
       "      <td>2018-11-29 23:53:02</td>\n",
       "      <td>349936.431</td>\n",
       "      <td>35.08</td>\n",
       "      <td>0.00</td>\n",
       "      <td>1013.71</td>\n",
       "      <td>NaN</td>\n",
       "      <td>...</td>\n",
       "      <td>0</td>\n",
       "      <td>0</td>\n",
       "      <td>0</td>\n",
       "      <td>0</td>\n",
       "      <td>0</td>\n",
       "      <td>0</td>\n",
       "      <td>0</td>\n",
       "      <td>0</td>\n",
       "      <td>0</td>\n",
       "      <td>1</td>\n",
       "    </tr>\n",
       "    <tr>\n",
       "      <th>5</th>\n",
       "      <td>0.44</td>\n",
       "      <td>9.0</td>\n",
       "      <td>1.0</td>\n",
       "      <td>e0126e1f-8ca9-4f2e-82b3-50505a09db9a</td>\n",
       "      <td>2018-11-28 22:49:20</td>\n",
       "      <td>259713.905</td>\n",
       "      <td>37.58</td>\n",
       "      <td>0.42</td>\n",
       "      <td>998.64</td>\n",
       "      <td>NaN</td>\n",
       "      <td>...</td>\n",
       "      <td>0</td>\n",
       "      <td>0</td>\n",
       "      <td>0</td>\n",
       "      <td>0</td>\n",
       "      <td>0</td>\n",
       "      <td>0</td>\n",
       "      <td>0</td>\n",
       "      <td>0</td>\n",
       "      <td>1</td>\n",
       "      <td>0</td>\n",
       "    </tr>\n",
       "  </tbody>\n",
       "</table>\n",
       "<p>5 rows × 74 columns</p>\n",
       "</div>"
      ],
      "text/plain": [
       "   distance  price  surge_multiplier                                    id  \\\n",
       "0      0.44    5.0               1.0  424553bb-7174-41ea-aeb4-fe06d4f4b9d7   \n",
       "1      0.44   11.0               1.0  4bd23055-6827-41c6-b23b-3c491f24e74d   \n",
       "3      0.44    7.0               1.0  981a3613-77af-4620-a42a-0c0866077d1e   \n",
       "4      0.44   26.0               1.0  c2d88af2-d278-4bfd-a8d0-29ca77cc5512   \n",
       "5      0.44    9.0               1.0  e0126e1f-8ca9-4f2e-82b3-50505a09db9a   \n",
       "\n",
       "      date_time_rides  time_since_start   temp  clouds  pressure    rain  \\\n",
       "0 2018-12-16 04:30:07       1748961.572  38.46    0.29   1022.25     NaN   \n",
       "1 2018-11-26 21:00:23         80377.359  44.31    1.00   1003.17  0.1123   \n",
       "3 2018-11-27 20:00:22        163175.880    NaN     NaN       NaN     NaN   \n",
       "4 2018-11-29 23:53:02        349936.431  35.08    0.00   1013.71     NaN   \n",
       "5 2018-11-28 22:49:20        259713.905  37.58    0.42    998.64     NaN   \n",
       "\n",
       "        ...        hour_of_day_14  hour_of_day_15  hour_of_day_16  \\\n",
       "0       ...                     0               0               0   \n",
       "1       ...                     0               0               0   \n",
       "3       ...                     0               0               0   \n",
       "4       ...                     0               0               0   \n",
       "5       ...                     0               0               0   \n",
       "\n",
       "   hour_of_day_17  hour_of_day_18  hour_of_day_19  hour_of_day_20  \\\n",
       "0               0               0               0               0   \n",
       "1               0               0               0               0   \n",
       "3               0               0               0               1   \n",
       "4               0               0               0               0   \n",
       "5               0               0               0               0   \n",
       "\n",
       "   hour_of_day_21  hour_of_day_22  hour_of_day_23  \n",
       "0               0               0               0  \n",
       "1               1               0               0  \n",
       "3               0               0               0  \n",
       "4               0               0               1  \n",
       "5               0               1               0  \n",
       "\n",
       "[5 rows x 74 columns]"
      ]
     },
     "execution_count": 43,
     "metadata": {},
     "output_type": "execute_result"
    }
   ],
   "source": [
    "full_df = pd.merge(rides_df, weather_df, on='merge_date', suffixes=('_rides', '_weather'), how='left')\n",
    "full_df['hour_of_day'] = full_df.date_time_rides.dt.hour\n",
    "full_df.drop(['date_time_weather', 'time_stamp_weather', \n",
    "              'time_stamp_rides', 'merge_date', \n",
    "              'location'], axis=1, inplace=True)\n",
    "full_df = pd.get_dummies(full_df, columns=['cab_type', 'destination', 'source', 'name', 'hour_of_day'])\n",
    "full_df.drop_duplicates(subset='id', keep='first', inplace=True)\n",
    "full_df.head()"
   ]
  },
  {
   "cell_type": "code",
   "execution_count": 44,
   "metadata": {},
   "outputs": [],
   "source": [
    "full_df['rain'] = full_df.rain.fillna(0)\n"
   ]
  },
  {
   "cell_type": "code",
   "execution_count": 45,
   "metadata": {},
   "outputs": [
    {
     "data": {
      "text/plain": [
       "distance                                  0\n",
       "price                                     0\n",
       "surge_multiplier                          0\n",
       "id                                        0\n",
       "date_time_rides                           0\n",
       "time_since_start                          0\n",
       "temp                                   2734\n",
       "clouds                                 2734\n",
       "pressure                               2734\n",
       "rain                                      0\n",
       "humidity                               2734\n",
       "wind                                   2734\n",
       "cab_type_Lyft                             0\n",
       "cab_type_Uber                             0\n",
       "destination_Back Bay                      0\n",
       "destination_Beacon Hill                   0\n",
       "destination_Boston University             0\n",
       "destination_Fenway                        0\n",
       "destination_Financial District            0\n",
       "destination_Haymarket Square              0\n",
       "destination_North End                     0\n",
       "destination_North Station                 0\n",
       "destination_Northeastern University       0\n",
       "destination_South Station                 0\n",
       "destination_Theatre District              0\n",
       "destination_West End                      0\n",
       "source_Back Bay                           0\n",
       "source_Beacon Hill                        0\n",
       "source_Boston University                  0\n",
       "source_Fenway                             0\n",
       "                                       ... \n",
       "name_Lyft XL                              0\n",
       "name_Shared                               0\n",
       "name_UberPool                             0\n",
       "name_UberX                                0\n",
       "name_UberXL                               0\n",
       "name_WAV                                  0\n",
       "hour_of_day_0                             0\n",
       "hour_of_day_1                             0\n",
       "hour_of_day_2                             0\n",
       "hour_of_day_3                             0\n",
       "hour_of_day_4                             0\n",
       "hour_of_day_5                             0\n",
       "hour_of_day_6                             0\n",
       "hour_of_day_7                             0\n",
       "hour_of_day_8                             0\n",
       "hour_of_day_9                             0\n",
       "hour_of_day_10                            0\n",
       "hour_of_day_11                            0\n",
       "hour_of_day_12                            0\n",
       "hour_of_day_13                            0\n",
       "hour_of_day_14                            0\n",
       "hour_of_day_15                            0\n",
       "hour_of_day_16                            0\n",
       "hour_of_day_17                            0\n",
       "hour_of_day_18                            0\n",
       "hour_of_day_19                            0\n",
       "hour_of_day_20                            0\n",
       "hour_of_day_21                            0\n",
       "hour_of_day_22                            0\n",
       "hour_of_day_23                            0\n",
       "Length: 74, dtype: int64"
      ]
     },
     "execution_count": 45,
     "metadata": {},
     "output_type": "execute_result"
    }
   ],
   "source": [
    "np.sum(full_df.isna(), axis=0)"
   ]
  },
  {
   "cell_type": "code",
   "execution_count": 46,
   "metadata": {},
   "outputs": [],
   "source": [
    "full_df.dropna(inplace=True)"
   ]
  },
  {
   "cell_type": "code",
   "execution_count": 47,
   "metadata": {},
   "outputs": [],
   "source": [
    "full_df.drop('id', axis=1, inplace=True)"
   ]
  },
  {
   "cell_type": "code",
   "execution_count": 48,
   "metadata": {},
   "outputs": [],
   "source": [
    "full_df.to_csv('data/rides_weather_df.csv')"
   ]
  },
  {
   "cell_type": "code",
   "execution_count": null,
   "metadata": {},
   "outputs": [],
   "source": []
  }
 ],
 "metadata": {
  "kernelspec": {
   "display_name": "Python 3",
   "language": "python",
   "name": "python3"
  },
  "language_info": {
   "codemirror_mode": {
    "name": "ipython",
    "version": 3
   },
   "file_extension": ".py",
   "mimetype": "text/x-python",
   "name": "python",
   "nbconvert_exporter": "python",
   "pygments_lexer": "ipython3",
   "version": "3.6.8"
  }
 },
 "nbformat": 4,
 "nbformat_minor": 2
}
